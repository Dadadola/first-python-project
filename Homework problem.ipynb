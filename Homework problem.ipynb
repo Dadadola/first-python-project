{
  "nbformat": 4,
  "nbformat_minor": 0,
  "metadata": {
    "colab": {
      "provenance": [],
      "authorship_tag": "ABX9TyMazbkxmKN3OU+iLS5Fw106",
      "include_colab_link": true
    },
    "kernelspec": {
      "name": "python3",
      "display_name": "Python 3"
    },
    "language_info": {
      "name": "python"
    }
  },
  "cells": [
    {
      "cell_type": "markdown",
      "metadata": {
        "id": "view-in-github",
        "colab_type": "text"
      },
      "source": [
        "<a href=\"https://colab.research.google.com/github/JoseDol20/first-python-project/blob/main/Homework%20problem.ipynb\" target=\"_parent\"><img src=\"https://colab.research.google.com/assets/colab-badge.svg\" alt=\"Open In Colab\"/></a>"
      ]
    },
    {
      "cell_type": "code",
      "execution_count": 9,
      "metadata": {
        "colab": {
          "base_uri": "https://localhost:8080/"
        },
        "id": "3nUkC-RgMBVx",
        "outputId": "23a41ed9-5d91-4067-9307-38a3be821f7a"
      },
      "outputs": [
        {
          "output_type": "stream",
          "name": "stdout",
          "text": [
            "The range in water of a 200 MeV proton is approximately 26.85700169816671 cm.\n",
            "The range in water is approximately 26.86 cm.\n"
          ]
        },
        {
          "output_type": "stream",
          "name": "stderr",
          "text": [
            "<ipython-input-9-129578baf977>:31: IntegrationWarning: The algorithm does not converge.  Roundoff error is detected\n",
            "  in the extrapolation table.  It is assumed that the requested tolerance\n",
            "  cannot be achieved, and that the returned result (if full_output = 1) is \n",
            "  the best which can be obtained.\n",
            "  range1, _ = quad(range_integrand, K_final, midpoint)\n"
          ]
        }
      ],
      "source": [
        "# Importing libraries\n",
        "import numpy\n",
        "from scipy.integrate import quad\n",
        "\n",
        "# Defining constants\n",
        "C = 0.17 # MeV/cm\n",
        "m_p = 938.27 #Mass of proton in Mev/c^2\n",
        "rho_e = 1 # Relative electron density in water\n",
        "I = 0.000075 # Mean excitation energy in Mev\n",
        "\n",
        "# Define Beta as a function of K\n",
        "def Beta(K):\n",
        "    gamma = 1 + K/m_p\n",
        "    return numpy.sqrt(1 - 1/gamma**2)\n",
        "\n",
        "# Define stopping power\n",
        "def stopping_power(K):\n",
        "    b = Beta(K)\n",
        "    return rho_e * C * (1/b**2) * (numpy.log((2 * 0.511 * b**2) / I) - b**2)\n",
        "\n",
        "# Defining the range integrand\n",
        "def range_integrand(K):\n",
        "    return 1/stopping_power(K)\n",
        "\n",
        "#defining the energy limits\n",
        "K_initial = 200 #MeV\n",
        "K_final = 0 #MeV\n",
        "midpoint = (K_initial + K_final)/2\n",
        "\n",
        "# Numerical integration\n",
        "range1, _ = quad(range_integrand, K_final, midpoint)\n",
        "range2, _ = quad(range_integrand, midpoint, K_initial)\n",
        "range_in_water = range1 + range2\n",
        "\n",
        "#Printing out the result\n",
        "print(\"The range in water of a 200 MeV proton is approximately\", range_in_water, \"cm.\")\n",
        "print(f\"The range in water is approximately {range_in_water:.2f} cm.\")"
      ]
    }
  ]
}